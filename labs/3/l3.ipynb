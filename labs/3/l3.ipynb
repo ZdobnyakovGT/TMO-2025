{
 "cells": [
  {
   "cell_type": "code",
   "execution_count": null,
   "metadata": {},
   "outputs": [
    {
     "name": "stdout",
     "output_type": "stream",
     "text": [
      "sepal length (cm)    0\n",
      "sepal width (cm)     0\n",
      "petal length (cm)    0\n",
      "petal width (cm)     0\n",
      "dtype: int64\n"
     ]
    }
   ],
   "source": [
    "from sklearn.datasets import load_iris\n",
    "import pandas as pd\n",
    "from sklearn.model_selection import train_test_split\n",
    "from sklearn.preprocessing import StandardScaler\n",
    "\n",
    "iris = load_iris()\n",
    "X = pd.DataFrame(iris.data, columns=iris.feature_names)\n",
    "y = pd.Series(iris.target, name='Species')\n",
    "\n",
    "print(X.isnull().sum())  \n",
    "\n",
    "# Разделение данных\n",
    "X_train, X_test, y_train, y_test = train_test_split(X, y, test_size=0.3, random_state=42)\n",
    "\n",
    "# Масштабирование признаков\n",
    "scaler = StandardScaler()\n",
    "X_train = scaler.fit_transform(X_train)\n",
    "X_test = scaler.transform(X_test)"
   ]
  },
  {
   "cell_type": "code",
   "execution_count": 7,
   "metadata": {},
   "outputs": [
    {
     "name": "stdout",
     "output_type": "stream",
     "text": [
      "Accuracy: 1.0\n",
      "Classification Report:\n",
      "               precision    recall  f1-score   support\n",
      "\n",
      "           0       1.00      1.00      1.00        19\n",
      "           1       1.00      1.00      1.00        13\n",
      "           2       1.00      1.00      1.00        13\n",
      "\n",
      "    accuracy                           1.00        45\n",
      "   macro avg       1.00      1.00      1.00        45\n",
      "weighted avg       1.00      1.00      1.00        45\n",
      "\n"
     ]
    }
   ],
   "source": [
    "from sklearn.neighbors import KNeighborsClassifier\n",
    "from sklearn.metrics import accuracy_score, classification_report\n",
    "\n",
    "# Обучение модели\n",
    "knn = KNeighborsClassifier(n_neighbors=5)\n",
    "knn.fit(X_train, y_train)\n",
    "\n",
    "# Предсказание и оценка\n",
    "y_pred = knn.predict(X_test)\n",
    "print(\"Accuracy:\", accuracy_score(y_test, y_pred))\n",
    "print(\"Classification Report:\\n\", classification_report(y_test, y_pred))"
   ]
  },
  {
   "cell_type": "code",
   "execution_count": 8,
   "metadata": {},
   "outputs": [
    {
     "name": "stdout",
     "output_type": "stream",
     "text": [
      "Best parameters (GridSearchCV): {'n_neighbors': 3}\n",
      "Best parameters (RandomizedSearchCV): {'n_neighbors': 8}\n",
      "Optimized Accuracy: 1.0\n",
      "Optimized Classification Report:\n",
      "               precision    recall  f1-score   support\n",
      "\n",
      "           0       1.00      1.00      1.00        19\n",
      "           1       1.00      1.00      1.00        13\n",
      "           2       1.00      1.00      1.00        13\n",
      "\n",
      "    accuracy                           1.00        45\n",
      "   macro avg       1.00      1.00      1.00        45\n",
      "weighted avg       1.00      1.00      1.00        45\n",
      "\n"
     ]
    }
   ],
   "source": [
    "from sklearn.model_selection import GridSearchCV, RandomizedSearchCV\n",
    "\n",
    "# Определение параметров для поиска\n",
    "param_grid = {'n_neighbors': range(1, 31)}\n",
    "\n",
    "# GridSearchCV\n",
    "grid_search = GridSearchCV(KNeighborsClassifier(), param_grid, cv=5)\n",
    "grid_search.fit(X_train, y_train)\n",
    "print(\"Best parameters (GridSearchCV):\", grid_search.best_params_)\n",
    "\n",
    "# RandomizedSearchCV\n",
    "random_search = RandomizedSearchCV(KNeighborsClassifier(), param_grid, n_iter=10, cv=5)\n",
    "random_search.fit(X_train, y_train)\n",
    "print(\"Best parameters (RandomizedSearchCV):\", random_search.best_params_)\n",
    "\n",
    "# Оценка качества оптимальной модели\n",
    "best_knn = grid_search.best_estimator_\n",
    "y_pred_best = best_knn.predict(X_test)\n",
    "print(\"Optimized Accuracy:\", accuracy_score(y_test, y_pred_best))\n",
    "print(\"Optimized Classification Report:\\n\", classification_report(y_test, y_pred_best))"
   ]
  },
  {
   "cell_type": "code",
   "execution_count": 9,
   "metadata": {},
   "outputs": [
    {
     "name": "stdout",
     "output_type": "stream",
     "text": [
      "Best parameters (GridSearchCV with KFold): {'n_neighbors': 4}\n",
      "Best parameters (GridSearchCV with StratifiedKFold): {'n_neighbors': 6}\n",
      "Optimized Accuracy (KFold): 0.9777777777777777\n",
      "Optimized Classification Report (KFold):\n",
      "               precision    recall  f1-score   support\n",
      "\n",
      "           0       1.00      1.00      1.00        19\n",
      "           1       0.93      1.00      0.96        13\n",
      "           2       1.00      0.92      0.96        13\n",
      "\n",
      "    accuracy                           0.98        45\n",
      "   macro avg       0.98      0.97      0.97        45\n",
      "weighted avg       0.98      0.98      0.98        45\n",
      "\n",
      "Optimized Accuracy (StratifiedKFold): 1.0\n",
      "Optimized Classification Report (StratifiedKFold):\n",
      "               precision    recall  f1-score   support\n",
      "\n",
      "           0       1.00      1.00      1.00        19\n",
      "           1       1.00      1.00      1.00        13\n",
      "           2       1.00      1.00      1.00        13\n",
      "\n",
      "    accuracy                           1.00        45\n",
      "   macro avg       1.00      1.00      1.00        45\n",
      "weighted avg       1.00      1.00      1.00        45\n",
      "\n"
     ]
    }
   ],
   "source": [
    "from sklearn.model_selection import KFold, StratifiedKFold\n",
    "\n",
    "# Стратегия 1: K-Fold Cross-Validation\n",
    "kfold = KFold(n_splits=5, shuffle=True, random_state=42)\n",
    "grid_search_kfold = GridSearchCV(KNeighborsClassifier(), param_grid, cv=kfold)\n",
    "grid_search_kfold.fit(X_train, y_train)\n",
    "print(\"Best parameters (GridSearchCV with KFold):\", grid_search_kfold.best_params_)\n",
    "\n",
    "# Стратегия 2: Stratified K-Fold Cross-Validation\n",
    "stratified_kfold = StratifiedKFold(n_splits=5, shuffle=True, random_state=42)\n",
    "grid_search_stratified = GridSearchCV(KNeighborsClassifier(), param_grid, cv=stratified_kfold)\n",
    "grid_search_stratified.fit(X_train, y_train)\n",
    "print(\"Best parameters (GridSearchCV with StratifiedKFold):\", grid_search_stratified.best_params_)\n",
    "\n",
    "# Оценка качества оптимальной модели с использованием KFold\n",
    "best_knn_kfold = grid_search_kfold.best_estimator_\n",
    "y_pred_kfold = best_knn_kfold.predict(X_test)\n",
    "print(\"Optimized Accuracy (KFold):\", accuracy_score(y_test, y_pred_kfold))\n",
    "print(\"Optimized Classification Report (KFold):\\n\", classification_report(y_test, y_pred_kfold))\n",
    "\n",
    "# Оценка качества оптимальной модели с использованием StratifiedKFold\n",
    "best_knn_stratified = grid_search_stratified.best_estimator_\n",
    "y_pred_stratified = best_knn_stratified.predict(X_test)\n",
    "print(\"Optimized Accuracy (StratifiedKFold):\", accuracy_score(y_test, y_pred_stratified))\n",
    "print(\"Optimized Classification Report (StratifiedKFold):\\n\", classification_report(y_test, y_pred_stratified))"
   ]
  },
  {
   "cell_type": "code",
   "execution_count": 10,
   "metadata": {},
   "outputs": [
    {
     "name": "stdout",
     "output_type": "stream",
     "text": [
      "Original Model Accuracy: 1.0\n",
      "Optimized Model Accuracy (KFold): 0.9777777777777777\n",
      "Optimized Model Accuracy (StratifiedKFold): 1.0\n",
      "Original Classification Report:\n",
      "               precision    recall  f1-score   support\n",
      "\n",
      "           0       1.00      1.00      1.00        19\n",
      "           1       1.00      1.00      1.00        13\n",
      "           2       1.00      1.00      1.00        13\n",
      "\n",
      "    accuracy                           1.00        45\n",
      "   macro avg       1.00      1.00      1.00        45\n",
      "weighted avg       1.00      1.00      1.00        45\n",
      "\n",
      "Optimized Classification Report (KFold):\n",
      "               precision    recall  f1-score   support\n",
      "\n",
      "           0       1.00      1.00      1.00        19\n",
      "           1       0.93      1.00      0.96        13\n",
      "           2       1.00      0.92      0.96        13\n",
      "\n",
      "    accuracy                           0.98        45\n",
      "   macro avg       0.98      0.97      0.97        45\n",
      "weighted avg       0.98      0.98      0.98        45\n",
      "\n",
      "Optimized Classification Report (StratifiedKFold):\n",
      "               precision    recall  f1-score   support\n",
      "\n",
      "           0       1.00      1.00      1.00        19\n",
      "           1       1.00      1.00      1.00        13\n",
      "           2       1.00      1.00      1.00        13\n",
      "\n",
      "    accuracy                           1.00        45\n",
      "   macro avg       1.00      1.00      1.00        45\n",
      "weighted avg       1.00      1.00      1.00        45\n",
      "\n"
     ]
    }
   ],
   "source": [
    "# Сравнение accuracy\n",
    "original_accuracy = accuracy_score(y_test, y_pred)\n",
    "optimized_accuracy_kfold = accuracy_score(y_test, y_pred_kfold)\n",
    "optimized_accuracy_stratified = accuracy_score(y_test, y_pred_stratified)\n",
    "\n",
    "print(f\"Original Model Accuracy: {original_accuracy}\")\n",
    "print(f\"Optimized Model Accuracy (KFold): {optimized_accuracy_kfold}\")\n",
    "print(f\"Optimized Model Accuracy (StratifiedKFold): {optimized_accuracy_stratified}\")\n",
    "\n",
    "# Сравнение classification report\n",
    "print(\"Original Classification Report:\\n\", classification_report(y_test, y_pred))\n",
    "print(\"Optimized Classification Report (KFold):\\n\", classification_report(y_test, y_pred_kfold))\n",
    "print(\"Optimized Classification Report (StratifiedKFold):\\n\", classification_report(y_test, y_pred_stratified))"
   ]
  },
  {
   "cell_type": "code",
   "execution_count": null,
   "metadata": {},
   "outputs": [],
   "source": []
  }
 ],
 "metadata": {
  "kernelspec": {
   "display_name": "Python 3",
   "language": "python",
   "name": "python3"
  },
  "language_info": {
   "codemirror_mode": {
    "name": "ipython",
    "version": 3
   },
   "file_extension": ".py",
   "mimetype": "text/x-python",
   "name": "python",
   "nbconvert_exporter": "python",
   "pygments_lexer": "ipython3",
   "version": "3.12.5"
  }
 },
 "nbformat": 4,
 "nbformat_minor": 2
}
